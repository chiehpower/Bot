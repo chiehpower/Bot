{
 "cells": [
  {
   "cell_type": "markdown",
   "metadata": {},
   "source": [
    "<center>Author : Chieh</center>\n",
    "\n",
    "Please install below some packages in your termial first.\n",
    "- pip install itchat\n",
    "- pip install apscheduler"
   ]
  },
  {
   "cell_type": "code",
   "execution_count": null,
   "metadata": {},
   "outputs": [],
   "source": [
    "import itchat\n",
    "import time\n",
    "itchat.auto_login(hotReload=True)"
   ]
  },
  {
   "cell_type": "code",
   "execution_count": null,
   "metadata": {},
   "outputs": [],
   "source": [
    "from apscheduler.schedulers.blocking import BlockingScheduler\n",
    "friends = itchat.get_friends(update=True)\n",
    "groups = itchat.get_chatrooms(update=True)"
   ]
  },
  {
   "cell_type": "markdown",
   "metadata": {},
   "source": [
    ">See your friends and their UserName."
   ]
  },
  {
   "cell_type": "code",
   "execution_count": null,
   "metadata": {},
   "outputs": [],
   "source": [
    "def Fname(s):\n",
    "    x= 0\n",
    "    for i in s:\n",
    "        yield x,friends[x]['NickName'],friends[x]['UserName']\n",
    "        x += 1\n",
    "friend_list = list(Fname(friends))"
   ]
  },
  {
   "cell_type": "code",
   "execution_count": null,
   "metadata": {},
   "outputs": [],
   "source": [
    "friend_list"
   ]
  },
  {
   "cell_type": "markdown",
   "metadata": {},
   "source": [
    ">This cell is that you can send the message to your friend. \n",
    "\n",
    "*you should type the message and name."
   ]
  },
  {
   "cell_type": "code",
   "execution_count": null,
   "metadata": {},
   "outputs": [],
   "source": [
    "def sendMessage(Name):\n",
    "    X = input('Type your message: ')\n",
    "    for i in range(len(friends)):\n",
    "        while Name == friends[i]['NickName']:\n",
    "            itchat.send(X, toUserName=friends[i]['UserName'])\n",
    "            break\n",
    "print('Please type the original name of your friend, not the name which was changed before.')\n",
    "SendName = input('Your Friend Name:')\n",
    "sendMessage(SendName)"
   ]
  },
  {
   "cell_type": "markdown",
   "metadata": {},
   "source": [
    ">This cell can let you send the message to your own filehelper. (文件傳輸助手）"
   ]
  },
  {
   "cell_type": "code",
   "execution_count": null,
   "metadata": {},
   "outputs": [],
   "source": [
    "message = input()\n",
    "itchat.send(message, toUserName='filehelper')"
   ]
  },
  {
   "cell_type": "markdown",
   "metadata": {},
   "source": [
    ">This cell can reply automatically messages, if anyone sends the message to you. However, it will reply the same messages."
   ]
  },
  {
   "cell_type": "code",
   "execution_count": null,
   "metadata": {},
   "outputs": [],
   "source": [
    "@itchat.msg_register(itchat.content.TEXT)\n",
    "def text_reply(msg):\n",
    "    return msg.text\n",
    "itchat.run()"
   ]
  },
  {
   "cell_type": "markdown",
   "metadata": {},
   "source": [
    "Of course, you can change some word inteh the position of return. For example, you can type \n",
    "```\n",
    "return u'Hi, this is automatically reply system. Now I have a little bit busy, and I will reply later. Sorry! I have recived your messages: %s\\n' % (msg['Text'])\n",
    "```"
   ]
  },
  {
   "cell_type": "code",
   "execution_count": null,
   "metadata": {},
   "outputs": [],
   "source": [
    "@itchat.msg_register(itchat.content.TEXT)\n",
    "def text_reply(msg):\n",
    "    return u'Hi, this is automatically reply system. Now I have a little bit busy, and I will reply later. Sorry! I have recived your messages: %s\\n' % (msg['Text'])\n",
    "itchat.run()"
   ]
  },
  {
   "cell_type": "markdown",
   "metadata": {},
   "source": [
    ">This cell is that you can scheduler the time, and then it will automatically keep sending the messages.\n",
    "\n",
    "Now I set that it will send the current time by interval of time."
   ]
  },
  {
   "cell_type": "code",
   "execution_count": null,
   "metadata": {},
   "outputs": [],
   "source": [
    "import datetime\n",
    "SName = input('Your friend name: ')\n",
    "def number(Name):\n",
    "    for i in range(len(friends)):\n",
    "        while Name == friends[i]['NickName']:\n",
    "            return i\n",
    "n = number(SName)\n",
    "def send():\n",
    "    global n\n",
    "    def SSsend(n):\n",
    "        X= datetime.datetime.utcnow().strftime(\"%Y-%m-%d %H:%M:%S.%f\")[:-3]\n",
    "        return itchat.send(X, toUserName=friends[n]['UserName'])\n",
    "    return SSsend(n)\n",
    "model = BlockingScheduler()\n",
    "model.add_job(send,'interval', seconds=1)\n",
    "model.start()"
   ]
  },
  {
   "cell_type": "markdown",
   "metadata": {},
   "source": [
    "You can change the parameters.\n",
    "\n",
    "1. weeks\n",
    "2. days\n",
    "3. hours\n",
    "4. minutes\n",
    "5. seconds\n",
    "6. start_date(datetime(should use string))\n",
    "7. end_date(datetime(should use string))\n",
    "8. timezone(datetime(should use string))\n",
    "\n",
    "and\n",
    "\n",
    "1. date\n",
    "2. interval\n",
    "3. cron\n",
    "\n",
    "\n",
    "#### [Chinese reference article](https://www.jianshu.com/p/ad2c42245906)"
   ]
  },
  {
   "cell_type": "code",
   "execution_count": null,
   "metadata": {},
   "outputs": [],
   "source": []
  }
 ],
 "metadata": {
  "hide_input": false,
  "kernelspec": {
   "display_name": "Python 3",
   "language": "python",
   "name": "python3"
  },
  "language_info": {
   "codemirror_mode": {
    "name": "ipython",
    "version": 3
   },
   "file_extension": ".py",
   "mimetype": "text/x-python",
   "name": "python",
   "nbconvert_exporter": "python",
   "pygments_lexer": "ipython3",
   "version": "3.7.2"
  },
  "varInspector": {
   "cols": {
    "lenName": 16,
    "lenType": 16,
    "lenVar": 40
   },
   "kernels_config": {
    "python": {
     "delete_cmd_postfix": "",
     "delete_cmd_prefix": "del ",
     "library": "var_list.py",
     "varRefreshCmd": "print(var_dic_list())"
    },
    "r": {
     "delete_cmd_postfix": ") ",
     "delete_cmd_prefix": "rm(",
     "library": "var_list.r",
     "varRefreshCmd": "cat(var_dic_list()) "
    }
   },
   "types_to_exclude": [
    "module",
    "function",
    "builtin_function_or_method",
    "instance",
    "_Feature"
   ],
   "window_display": false
  }
 },
 "nbformat": 4,
 "nbformat_minor": 2
}
